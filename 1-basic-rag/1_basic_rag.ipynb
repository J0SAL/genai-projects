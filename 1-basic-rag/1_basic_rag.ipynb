{
  "nbformat": 4,
  "nbformat_minor": 0,
  "metadata": {
    "colab": {
      "provenance": []
    },
    "kernelspec": {
      "name": "python3",
      "display_name": "Python 3"
    },
    "language_info": {
      "name": "python"
    }
  },
  "cells": [
    {
      "cell_type": "code",
      "execution_count": 3,
      "metadata": {
        "id": "vBx7yQyvc_6M"
      },
      "outputs": [],
      "source": [
        "!pip install -r requirements.txt"
      ]
    },
    {
      "cell_type": "code",
      "source": [
        "from langchain_community.document_loaders import UnstructuredURLLoader"
      ],
      "metadata": {
        "id": "zDL711yteXgb"
      },
      "execution_count": 4,
      "outputs": []
    },
    {
      "cell_type": "code",
      "source": [
        "urls = ['https://www.asyncapi.com/en', 'https://www.asyncapi.com/about', 'https://www.asyncapi.com/about#faqs']\n",
        "loader = UnstructuredURLLoader(urls=urls)\n",
        "data = loader.load()"
      ],
      "metadata": {
        "id": "1q9OFGstfU0C"
      },
      "execution_count": 5,
      "outputs": []
    },
    {
      "cell_type": "code",
      "source": [
        "data"
      ],
      "metadata": {
        "colab": {
          "base_uri": "https://localhost:8080/"
        },
        "id": "jXZEXj1HgljV",
        "outputId": "86f40c79-e411-4ac6-d6c7-c5291b994546"
      },
      "execution_count": 6,
      "outputs": [
        {
          "output_type": "execute_result",
          "data": {
            "text/plain": [
              "[Document(metadata={'source': 'https://www.asyncapi.com/en'}, page_content='AsyncAPI Conference\\n\\nParis Edition\\n\\n9th - 11th of December, 2025 | Paris, France\\n\\n31 days until the end of Call for Speakers\\n\\nApply To Speak\\n\\nBuilding the future of Event-Driven Architectures (EDA)\\n\\nOpen-Source tools to easily build and maintain your event-driven architecture. All powered by the AsyncAPI specification, the industry standard for defining asynchronous APIs.\\n\\nRead the docs\\n\\nProud to be part of the Linux Foundation\\n\\nasyncapi.yaml\\n\\nPlay with it!\\n\\nOpen this example on AsyncAPI Studio to get a better taste of the specification. No signup is required!\\n\\nOpen in Studio\\n\\nAccount Service Documentation\\n\\nAccount Service 1.0.0\\n\\nThis service is in charge of processing user signups 🚀\\n\\nRECEIVES user/signedup\\n\\nAccepts the following message:\\n\\nPayload Object\\n\\ndisplayName\\n\\nString\\n\\nName of the user\\n\\nemail\\n\\nStringemail\\n\\nEmail of the user\\n\\nAdditional properties are allowed.\\n\\n// Example\\n\\n\"displayName\": \"Eve & Chan\",\\n\\n\"email\": \"info@asyncapi.io\"\\n\\nWhy AsyncAPI?\\n\\nImproving the current state of Event-Driven Architectures (EDA)\\n\\nSpecification\\n\\nAllows you to define the interfaces of asynchronous APIs and is protocol agnostic.\\n\\nDocumentation\\n\\nDocument APIs\\n\\nUse our tools to generate documentation at the build level, on a server, and on a client.\\n\\nHTML Template React Component\\n\\nCode Generation\\n\\nGenerate documentation, Code (TypeScript, Java, C#, etc), and more out of your AsyncAPI files.\\n\\nGenerator Modelina\\n\\nCommunity\\n\\nWe\\'re a community of great people who are passionate about AsyncAPI and event-driven architectures.\\n\\nJoin our Slack\\n\\nOpen Governance\\n\\nOur Open-Source project is part of Linux Foundation and works under an Open Governance model.\\n\\nRead more about Open Governance TSC Members\\n\\nAnd much more...\\n\\nWe have many different tools and welcome you to explore our ideas and propose new ideas to AsyncAPI.\\n\\nView GitHub Discussions\\n\\nAdopted by the world leading brands\\n\\nThese brands are already using AsyncAPI in production. Is your company using AsyncAPI and wants to be included in this list? Let us know here!\\n\\nSubscribe to our newsletter to receive news about AsyncAPI.\\n\\nWe respect your inbox. No spam, promise ✌️\\n\\nJoin our great community!\\n\\nWe\\'re a community of great people who are passionate about AsyncAPI and event-driven architectures.\\n\\nLukasz Gornicki\\n\\nLukasz Gornicki\\n\\nGood Morning\\n\\ngrain\\n\\ncoffee\\n\\ncoffee\\n\\ncoffee-parrot\\n\\ncoffee-bean\\n\\nparrotsleep\\n\\nEve & Chan\\n\\nEve & Chan\\n\\nJoined #general.\\n\\nEve & Chan\\n\\nEve & Chan\\n\\nHey folks! 👋\\n\\n👋21\\n\\nfmvilas\\n\\nfmvilas\\n\\nHey Eve & Chan! Welcome to the AsyncAPI workspace!\\n\\nJoin our Slack workspace\\n\\nWe welcome everyone to join our Slack workspace. If you have a question on how to use AsyncAPI, want to contribute, or simply want to say hello 👋, you\\'re welcome to join us. We\\'re nice people 🙂\\n\\nJoin us!\\n\\nUpcoming events\\n\\nAsyncAPI Community WG Meeting\\n\\nTuesday, September 9, 2025 3:00 PM UTC+00:00\\n\\n30\\n\\nAsyncAPI Webinar With Lukasz\\n\\nTuesday, September 30, 2025 4:00 PM UTC+00:00\\n\\nView Calendar\\n\\nJoin our public meetings\\n\\nAsyncAPI hosts different meetings every week. They are focused on different topics, sometimes purely technical and sometimes about community building. Pick one and join us! Learn more about our meetings.\\n\\nAdd to Google Calendar\\n\\nSubscribe\\n\\nDownload ICS File\\n\\n\\n\\nCommunication\\n\\nMonthly Community Update: August 2025\\n\\nAsyncAPI community and project updates for August 2025\\n\\nThulisile Sibanda\\n\\nSeptember 4, 2025·6 min read\\n\\nLatest news and blogs\\n\\nWelcome to our Newsroom section. Here, you\\'ll get latest information about our blogs, articles, announcements and Youtube live-streams. Let\\'s get upto date with the recent activities in the organization.\\n\\nVisit the Newsroom\\n\\nPlatinum Sponsors\\n\\nGravitee.io\\n\\nKong\\n\\nGold Sponsors\\n\\nIBM\\n\\nSolace: powering event-driven architectures, integrations and AI\\n\\nSilver Sponsors\\n\\nOpenAPI & AsyncAPI API docs - Bump.sh\\n\\nSvix\\n\\nAklivity\\n\\nSmartBear\\n\\nBest Route Planning and Route Optimization Software\\n\\nWant to Sponsor Us?\\n\\nThese great organizations are already supporting AsyncAPI. Want to become a sponsor? Support us!\\n\\nSupported by\\n\\nThe following companies support us by letting us use their products for free. Interested in supporting us too? Email us for more info.\\n\\nSlack - Free Standard Subscription.\\n\\nNetlify - Free website deployment.\\n\\nSonarcloud - Free tier for automated project scanning.\\n\\nConfengine - CFP platform sponsorship for AsyncAPI Conference.\\n\\nDigitalOcean - 500 dollars on cloud services.\\n\\nRestream - Free professional plan subscription.\\n\\nWhat the experts are saying\\n\\nMicroservices underline the need for event-based communication in distributed architectures. AsyncAPI brings the richness of the REST API ecosystem to asynchronous APIs.\\n\\nMatt McLarty\\n\\nGlobal Leader of API Strategy at MuleSoft\\n\\nEvent-driven APIs need love too! AsyncAPI brings the many benefits of a machine/human-readable specification to these nuanced approaches.\\n\\nBill Doerrfeld\\n\\nEditor in Chief at Nordic APIs\\n\\nDevelopers need to be able to quickly and consistently create event-driven applications that provide business value and react to customer needs in realtime. I can\\'t count how many times I\\'ve heard developers ask for OpenAPI/Swagger style tools for the asynchronous and event-driven world, and that is exactly what the AsyncAPI initiative is making a reality.\\n\\nJonathan Schabowsky\\n\\nSr. Architect, Office of the CTO at Solace\\n\\nWe’ve been focusing on event-driven APIs since 2014 and thank the AsyncAPI contributors every day for driving the community towards common standards.\\n\\nEric Horesnyi\\n\\nCEO at Streamdata.io'),\n",
              " Document(metadata={'source': 'https://www.asyncapi.com/about'}, page_content='About\\n\\nAsyncAPI\\n\\nAsyncAPI is an Apache License 2.0 library under the Linux Foundation that seeks to improve the current state of event-driven architecture (EDA). The AsyncAPI Initiative is a specification and growing set of open-source tools to help developers define, build, and maintain asynchronous APIs and EDAs.\\n\\nDevelopers familiar with OpenAPI (aka Swagger) for RESTful APIs will see strong similarities when using AsyncAPI. One common use case is generating asynchronous API documentation (HTML or Markdown). The specification is both platform and language agnostic. The current tooling includes support for common message brokers such as Apache Kafka and RabbitMQ and languages including Python, Java, and Nodejs.\\n\\nOur long-term goal is to make working with EDAs as easy as working with REST APIs. That goes from documentation to code generation, discovery to event management, and beyond. Our 150+ Open-Source (OSS) contributors are EDA enthusiasts from all around the world.\\n\\nThe AsyncAPI project started at Hitch (a.k.a. API Changelog). Hitch needed a machine-readable format to describe internal message-driven microservices architecture. The goal was to benefit from it in the same way they had used OpenAPI for their HTTP APIs. Inspired by OpenAPI, Fran Méndez, who worked at Hitch at the time, created the AsyncAPI specification. After publishing the first version, he noticed that he solved not only his problems but the problems of the wider community. Eventually, the AsyncAPI specification and community evolved into the AsyncAPI Initiative, a project now under the umbrella of the Linux Foundation.\\n\\nOpen governance model\\n\\nFree software allows users to apply, modify, and continue in the chain by distributing copies to help others and, in this case, disseminating modified versions of the specification.\\n\\nTransferring AsyncAPI to the Linux Foundation and forming an open governance model assures the community that a single company does not control AsyncAPI Initiative. This move takes the project to a higher level of transparency.\\n\\nIn doing so, we achieve:\\n\\nEnsuring an open governance model where no single company dominates the specification and its tools.\\n\\nMaking the project as democratic as possible.\\n\\nRelying on an asynchronous decision-making process that empowers the people who \"work,\" not the companies who \"pay.\"\\n\\nIn other words, it gives equal power to individual and corporate contributors.\\n\\nMaintainers\\n\\nCommitters (also known as Maintainers) are the decision-makers at the repository/project level. They regularly contribute to the project and are invited by other maintainers to manage the repository, have more privileges, and approve pull requests.\\n\\nThe committers run the repository, but for issues that go beyond that, there is a Technical Steering Committee (TSC). This committee comprises all the maintainers who voluntarily want to be part of this committee, thus taking responsibility for overseeing the initiative.\\n\\nYou can see the list of maintainers who also form part of the AsyncAPI TSC here.\\n\\nContributors\\n\\nWe do our best to recognize every contribution to the project. We do it individually in every repository from AsyncAPI GitHub organization. There should always be a Contributors section in the readme, like this one. We use All Contributors specification to handle recognitions.\\n\\nWe apologize in advance if we failed to recognize your work. Feel free to contact us on Slack, and we will fix it immediately, or just talk to our All Contributors bot.\\n\\nAsyncAPI, in numbers\\n\\nInterested to know more about our growth? Feel free to check our annual summary report:\\n\\nSummary report 2022\\n\\nSummary report 2021\\n\\nSummary report 2020\\n\\nCompanies support\\n\\nThis is the list of companies that either provide a significant financial support or delegate their employees to support AsyncAPI with maintainance:\\n\\nGravitee.io\\n\\nKong\\n\\nWant to become a sponsor? Support us!\\n\\nWould you like to get on the list and support us financially? Check out all AsyncAPI sponsoring options.\\n\\nWould you like to help us with the maintenance? Contact us on AsyncAPI Slack.\\n\\nBrands and companies using AsyncAPI\\n\\nThe total number of companies and projects using AsyncAPI as well as their identity is impossible to know. So far, we are aware that the following ones operate with it.\\n\\nSlack: Business Communication Platform that permits to operate with multiple channels (public and private). It currently has more than 10 million daily active users worldwide. It was recently acquired by Salesforce.\\n\\nAdidas: Company dedicated to manufacturing sports equipment and fashion products. It is the largest sportswear manufacturer in Europe, and the second largest in the world. This company has more than 150.000 sales outlets around the world.\\n\\nSalesforce: Business consultancy company. It provides (CRM) services and more. It manages from small businesses to FORTUNE 500 companies, and it has more than 150,000 customers.\\n\\nIBM: Company that manufactures and markets hardware and software. It has operations in over 170 countries and provides hosting and consulting services in many areas.\\n\\nSAP: Company dedicated to the design of computer products for business management. Develops business software to manage operations and business-to-customer relationships. It’s a large company with 100,330 employees.\\n\\nIQVIA: Company providing services for the combined health information technology and clinical research industries. It employs more than 58.000 people in over 100 countries.\\n\\nValues of AsyncAPI\\n\\nInnovative. There is no other specification that covers the messaging needs in event-driven architecture that AsyncAPI is covering. What it tries to do is to integrate with the existing tools and remove walls for communication.\\n\\nFree. It’s a free software project: it seeks the user\\'s liberty by offering a tool that can be used and enhanced without restrictions.\\n\\nOpen. As it\\'s an open-source project, not a company or a product. It works in a change of paradigm because it does not sell anything; it moves away from fierce competition and bets for cooperation.\\n\\nMulticultural and inclusive. It’s an initiative with an international and multicultural vision. It’s organic, always in constant mutation and change. It also actively demands compliance with human rights, respect for racial, sexual, and cultural diversity equality. And, of course, the equality between women and men.\\n\\nTransparent. The initiative is built on transparency, being one of the main values of AsyncAPI, internally and externally, including its financing. All the relevant data of the project is public. All tasks are public, with participation and communication handled through Slack and GitHub.\\n\\nHorizontal and participative. Its structure is based on horizontality; most of the decisions are defined as a group, including the Community. Anyone can submit improvements, lines of action, or elements to be taken into account to strengthen AsyncAPI.\\n\\nUser-friendly. AsyncAPI bets for a seamless API development experience. Users should be able to create their first API even without prior knowledge of AsyncAPI. It has to be natural, simple, and intuitive.\\n\\nFunding\\n\\nAsyncAPI is an open-source project funded by both talent and voluntary contributions. It relies on the expertise and dedication of the Community developers who believe in the project and contribute to its evolution.\\n\\nFinancially, there are individual donations and contributions made by users of the project, and others from different companies and initiatives that trust and support AsyncAPI through sponsorship. The main sponsors that contribute to sustaining this initiative are Postman, IBM, IQVIA Technology, and Solace. AsyncAPI also receives different levels of contributions from other companies such as Red Hat, Slack, etc.\\n\\nAll the information about the project\\'s economy, the amount of the donations, the identity of the donors, the sponsors supporting the project, and the use of this money is public via the AsyncAPI Open Collective.\\n\\nContact details\\n\\nPress & communications info: press@asyncapi.io.\\n\\nTwitter: It\\'s used for disseminating all news and information regarding the project, resolving user queries, and sharing the latest updates within AsyncAPI.\\n\\nSlack workspace: The main place of encounter for the whole community of AsyncAPI.\\n\\nNewsletter: To learn about the status of the project, news, actualizations, recorded events, and meetings.\\n\\nBlog: It’s used to disseminate information related to the project. It\\'s also open to collaborations.\\n\\nLinkedIn: It\\'s used to publish news related to the project or its environment. It’s also used as a source of information.\\n\\nYouTube Channel: Where you can find conferences, AsyncAPI Open Meetings, and much more.\\n\\nGitHub: Issues (bugs, feature requests, etc.) and pull requests (PRs) for fixes or new features already discussed, as per the contributing guidelines.\\n\\nAsyncAPI Open Meetings: AsyncAPI hosts different meetings every week. They are focused on different topics, sometimes purely technical and sometimes about community building. Pick one and join us! Learn more about our meetings\\n\\nFAQs'),\n",
              " Document(metadata={'source': 'https://www.asyncapi.com/about#faqs'}, page_content='About\\n\\nAsyncAPI\\n\\nAsyncAPI is an Apache License 2.0 library under the Linux Foundation that seeks to improve the current state of event-driven architecture (EDA). The AsyncAPI Initiative is a specification and growing set of open-source tools to help developers define, build, and maintain asynchronous APIs and EDAs.\\n\\nDevelopers familiar with OpenAPI (aka Swagger) for RESTful APIs will see strong similarities when using AsyncAPI. One common use case is generating asynchronous API documentation (HTML or Markdown). The specification is both platform and language agnostic. The current tooling includes support for common message brokers such as Apache Kafka and RabbitMQ and languages including Python, Java, and Nodejs.\\n\\nOur long-term goal is to make working with EDAs as easy as working with REST APIs. That goes from documentation to code generation, discovery to event management, and beyond. Our 150+ Open-Source (OSS) contributors are EDA enthusiasts from all around the world.\\n\\nThe AsyncAPI project started at Hitch (a.k.a. API Changelog). Hitch needed a machine-readable format to describe internal message-driven microservices architecture. The goal was to benefit from it in the same way they had used OpenAPI for their HTTP APIs. Inspired by OpenAPI, Fran Méndez, who worked at Hitch at the time, created the AsyncAPI specification. After publishing the first version, he noticed that he solved not only his problems but the problems of the wider community. Eventually, the AsyncAPI specification and community evolved into the AsyncAPI Initiative, a project now under the umbrella of the Linux Foundation.\\n\\nOpen governance model\\n\\nFree software allows users to apply, modify, and continue in the chain by distributing copies to help others and, in this case, disseminating modified versions of the specification.\\n\\nTransferring AsyncAPI to the Linux Foundation and forming an open governance model assures the community that a single company does not control AsyncAPI Initiative. This move takes the project to a higher level of transparency.\\n\\nIn doing so, we achieve:\\n\\nEnsuring an open governance model where no single company dominates the specification and its tools.\\n\\nMaking the project as democratic as possible.\\n\\nRelying on an asynchronous decision-making process that empowers the people who \"work,\" not the companies who \"pay.\"\\n\\nIn other words, it gives equal power to individual and corporate contributors.\\n\\nMaintainers\\n\\nCommitters (also known as Maintainers) are the decision-makers at the repository/project level. They regularly contribute to the project and are invited by other maintainers to manage the repository, have more privileges, and approve pull requests.\\n\\nThe committers run the repository, but for issues that go beyond that, there is a Technical Steering Committee (TSC). This committee comprises all the maintainers who voluntarily want to be part of this committee, thus taking responsibility for overseeing the initiative.\\n\\nYou can see the list of maintainers who also form part of the AsyncAPI TSC here.\\n\\nContributors\\n\\nWe do our best to recognize every contribution to the project. We do it individually in every repository from AsyncAPI GitHub organization. There should always be a Contributors section in the readme, like this one. We use All Contributors specification to handle recognitions.\\n\\nWe apologize in advance if we failed to recognize your work. Feel free to contact us on Slack, and we will fix it immediately, or just talk to our All Contributors bot.\\n\\nAsyncAPI, in numbers\\n\\nInterested to know more about our growth? Feel free to check our annual summary report:\\n\\nSummary report 2022\\n\\nSummary report 2021\\n\\nSummary report 2020\\n\\nCompanies support\\n\\nThis is the list of companies that either provide a significant financial support or delegate their employees to support AsyncAPI with maintainance:\\n\\nGravitee.io\\n\\nKong\\n\\nWant to become a sponsor? Support us!\\n\\nWould you like to get on the list and support us financially? Check out all AsyncAPI sponsoring options.\\n\\nWould you like to help us with the maintenance? Contact us on AsyncAPI Slack.\\n\\nBrands and companies using AsyncAPI\\n\\nThe total number of companies and projects using AsyncAPI as well as their identity is impossible to know. So far, we are aware that the following ones operate with it.\\n\\nSlack: Business Communication Platform that permits to operate with multiple channels (public and private). It currently has more than 10 million daily active users worldwide. It was recently acquired by Salesforce.\\n\\nAdidas: Company dedicated to manufacturing sports equipment and fashion products. It is the largest sportswear manufacturer in Europe, and the second largest in the world. This company has more than 150.000 sales outlets around the world.\\n\\nSalesforce: Business consultancy company. It provides (CRM) services and more. It manages from small businesses to FORTUNE 500 companies, and it has more than 150,000 customers.\\n\\nIBM: Company that manufactures and markets hardware and software. It has operations in over 170 countries and provides hosting and consulting services in many areas.\\n\\nSAP: Company dedicated to the design of computer products for business management. Develops business software to manage operations and business-to-customer relationships. It’s a large company with 100,330 employees.\\n\\nIQVIA: Company providing services for the combined health information technology and clinical research industries. It employs more than 58.000 people in over 100 countries.\\n\\nValues of AsyncAPI\\n\\nInnovative. There is no other specification that covers the messaging needs in event-driven architecture that AsyncAPI is covering. What it tries to do is to integrate with the existing tools and remove walls for communication.\\n\\nFree. It’s a free software project: it seeks the user\\'s liberty by offering a tool that can be used and enhanced without restrictions.\\n\\nOpen. As it\\'s an open-source project, not a company or a product. It works in a change of paradigm because it does not sell anything; it moves away from fierce competition and bets for cooperation.\\n\\nMulticultural and inclusive. It’s an initiative with an international and multicultural vision. It’s organic, always in constant mutation and change. It also actively demands compliance with human rights, respect for racial, sexual, and cultural diversity equality. And, of course, the equality between women and men.\\n\\nTransparent. The initiative is built on transparency, being one of the main values of AsyncAPI, internally and externally, including its financing. All the relevant data of the project is public. All tasks are public, with participation and communication handled through Slack and GitHub.\\n\\nHorizontal and participative. Its structure is based on horizontality; most of the decisions are defined as a group, including the Community. Anyone can submit improvements, lines of action, or elements to be taken into account to strengthen AsyncAPI.\\n\\nUser-friendly. AsyncAPI bets for a seamless API development experience. Users should be able to create their first API even without prior knowledge of AsyncAPI. It has to be natural, simple, and intuitive.\\n\\nFunding\\n\\nAsyncAPI is an open-source project funded by both talent and voluntary contributions. It relies on the expertise and dedication of the Community developers who believe in the project and contribute to its evolution.\\n\\nFinancially, there are individual donations and contributions made by users of the project, and others from different companies and initiatives that trust and support AsyncAPI through sponsorship. The main sponsors that contribute to sustaining this initiative are Postman, IBM, IQVIA Technology, and Solace. AsyncAPI also receives different levels of contributions from other companies such as Red Hat, Slack, etc.\\n\\nAll the information about the project\\'s economy, the amount of the donations, the identity of the donors, the sponsors supporting the project, and the use of this money is public via the AsyncAPI Open Collective.\\n\\nContact details\\n\\nPress & communications info: press@asyncapi.io.\\n\\nTwitter: It\\'s used for disseminating all news and information regarding the project, resolving user queries, and sharing the latest updates within AsyncAPI.\\n\\nSlack workspace: The main place of encounter for the whole community of AsyncAPI.\\n\\nNewsletter: To learn about the status of the project, news, actualizations, recorded events, and meetings.\\n\\nBlog: It’s used to disseminate information related to the project. It\\'s also open to collaborations.\\n\\nLinkedIn: It\\'s used to publish news related to the project or its environment. It’s also used as a source of information.\\n\\nYouTube Channel: Where you can find conferences, AsyncAPI Open Meetings, and much more.\\n\\nGitHub: Issues (bugs, feature requests, etc.) and pull requests (PRs) for fixes or new features already discussed, as per the contributing guidelines.\\n\\nAsyncAPI Open Meetings: AsyncAPI hosts different meetings every week. They are focused on different topics, sometimes purely technical and sometimes about community building. Pick one and join us! Learn more about our meetings\\n\\nFAQs')]"
            ]
          },
          "metadata": {},
          "execution_count": 6
        }
      ]
    },
    {
      "cell_type": "code",
      "source": [
        "from langchain.text_splitter import RecursiveCharacterTextSplitter\n",
        "\n",
        "text_splitter = RecursiveCharacterTextSplitter(chunk_size=1000)\n",
        "docs = text_splitter.split_documents(data)\n",
        "\n",
        "print(f\"Total number of docs: {len(docs)}\")"
      ],
      "metadata": {
        "colab": {
          "base_uri": "https://localhost:8080/"
        },
        "id": "9lpjWc6sgpdT",
        "outputId": "54c8983e-5d06-4720-bb42-b7ce19ba392b"
      },
      "execution_count": 7,
      "outputs": [
        {
          "output_type": "stream",
          "name": "stdout",
          "text": [
            "Total number of docs: 29\n"
          ]
        }
      ]
    },
    {
      "cell_type": "code",
      "source": [
        "docs[0]"
      ],
      "metadata": {
        "colab": {
          "base_uri": "https://localhost:8080/"
        },
        "id": "6i7yTepqhbIP",
        "outputId": "de6b105f-0d50-45ff-aa16-5234beebd6b7"
      },
      "execution_count": 8,
      "outputs": [
        {
          "output_type": "execute_result",
          "data": {
            "text/plain": [
              "Document(metadata={'source': 'https://www.asyncapi.com/en'}, page_content='AsyncAPI Conference\\n\\nParis Edition\\n\\n9th - 11th of December, 2025 | Paris, France\\n\\n31 days until the end of Call for Speakers\\n\\nApply To Speak\\n\\nBuilding the future of Event-Driven Architectures (EDA)\\n\\nOpen-Source tools to easily build and maintain your event-driven architecture. All powered by the AsyncAPI specification, the industry standard for defining asynchronous APIs.\\n\\nRead the docs\\n\\nProud to be part of the Linux Foundation\\n\\nasyncapi.yaml\\n\\nPlay with it!\\n\\nOpen this example on AsyncAPI Studio to get a better taste of the specification. No signup is required!\\n\\nOpen in Studio\\n\\nAccount Service Documentation\\n\\nAccount Service 1.0.0\\n\\nThis service is in charge of processing user signups 🚀\\n\\nRECEIVES user/signedup\\n\\nAccepts the following message:\\n\\nPayload Object\\n\\ndisplayName\\n\\nString\\n\\nName of the user\\n\\nemail\\n\\nStringemail\\n\\nEmail of the user\\n\\nAdditional properties are allowed.\\n\\n// Example\\n\\n\"displayName\": \"Eve & Chan\",\\n\\n\"email\": \"info@asyncapi.io\"\\n\\nWhy AsyncAPI?')"
            ]
          },
          "metadata": {},
          "execution_count": 8
        }
      ]
    },
    {
      "cell_type": "code",
      "source": [
        "from langchain_chroma import Chroma\n",
        "# from langchain_openai import OpenAIEmbeddings\n",
        "#from langchain_openai import OpenAI\n",
        "from langchain_google_genai import GoogleGenerativeAIEmbeddings\n",
        "from langchain_google_genai import ChatGoogleGenerativeAI"
      ],
      "metadata": {
        "id": "qGAPXuJkhZEL"
      },
      "execution_count": 9,
      "outputs": []
    },
    {
      "cell_type": "code",
      "source": [
        "import os\n",
        "import getpass\n",
        "os.environ[\"GOOGLE_API_KEY\"]=getpass.getpass(\"Enter API key for Google Gemini: \")"
      ],
      "metadata": {
        "colab": {
          "base_uri": "https://localhost:8080/"
        },
        "id": "pt_CF5MRhqhk",
        "outputId": "f756be89-9f2a-4a38-d35b-4a8778e55cbd"
      },
      "execution_count": 21,
      "outputs": [
        {
          "name": "stdout",
          "output_type": "stream",
          "text": [
            "Enter API key for Google Gemini: ··········\n"
          ]
        }
      ]
    },
    {
      "cell_type": "code",
      "source": [
        "embeddings = GoogleGenerativeAIEmbeddings(model=\"models/gemini-embedding-001\")\n",
        "vectorstore = Chroma.from_documents(documents=docs, embedding=embeddings)"
      ],
      "metadata": {
        "id": "w_HWQbTbiQ1Q"
      },
      "execution_count": 12,
      "outputs": []
    },
    {
      "cell_type": "code",
      "source": [
        "retriever = vectorstore.as_retriever(search_type=\"similarity\", search_kwargs={\"k\": 3})"
      ],
      "metadata": {
        "id": "_b8zXVCUietJ"
      },
      "execution_count": 13,
      "outputs": []
    },
    {
      "cell_type": "code",
      "source": [
        "retrieved_docs = retriever.invoke(\"What is their product?\")\n",
        "len(retrieved_docs)"
      ],
      "metadata": {
        "colab": {
          "base_uri": "https://localhost:8080/"
        },
        "id": "FAgWEuCSjUDZ",
        "outputId": "991eaff5-3c70-4396-c19b-e8a51875f84d"
      },
      "execution_count": 14,
      "outputs": [
        {
          "output_type": "execute_result",
          "data": {
            "text/plain": [
              "3"
            ]
          },
          "metadata": {},
          "execution_count": 14
        }
      ]
    },
    {
      "cell_type": "code",
      "source": [
        "print(retrieved_docs[0].page_content)"
      ],
      "metadata": {
        "colab": {
          "base_uri": "https://localhost:8080/"
        },
        "id": "wXnX5nZPjlBW",
        "outputId": "aa10f93a-59a6-4fbd-e850-8a2c9c2293df"
      },
      "execution_count": 15,
      "outputs": [
        {
          "output_type": "stream",
          "name": "stdout",
          "text": [
            "IBM: Company that manufactures and markets hardware and software. It has operations in over 170 countries and provides hosting and consulting services in many areas.\n",
            "\n",
            "SAP: Company dedicated to the design of computer products for business management. Develops business software to manage operations and business-to-customer relationships. It’s a large company with 100,330 employees.\n",
            "\n",
            "IQVIA: Company providing services for the combined health information technology and clinical research industries. It employs more than 58.000 people in over 100 countries.\n",
            "\n",
            "Values of AsyncAPI\n",
            "\n",
            "Innovative. There is no other specification that covers the messaging needs in event-driven architecture that AsyncAPI is covering. What it tries to do is to integrate with the existing tools and remove walls for communication.\n",
            "\n",
            "Free. It’s a free software project: it seeks the user's liberty by offering a tool that can be used and enhanced without restrictions.\n"
          ]
        }
      ]
    },
    {
      "cell_type": "code",
      "source": [
        "#llm = OpenAI(temperature=0.4, max_tokens=500)\n",
        "llm = ChatGoogleGenerativeAI(model=\"gemini-2.5-flash\",\n",
        "    temperature=0,\n",
        "    max_tokens=None)"
      ],
      "metadata": {
        "id": "VCo12UX6k6fC"
      },
      "execution_count": 16,
      "outputs": []
    },
    {
      "cell_type": "code",
      "source": [
        "from langchain.chains import create_retrieval_chain\n",
        "from langchain.chains.combine_documents import create_stuff_documents_chain\n",
        "from langchain_core.prompts import ChatPromptTemplate\n",
        "\n",
        "system_prompt = (\n",
        "    \"You are an assistant for question-answering tasks.\"\n",
        "    \"Use the following pieces of retrieved context to answer \"\n",
        "    \"the question. If you don't know the answer, say 'fuck off \"\n",
        "    \", ask relavent question'. Answer the question in breief, \"\n",
        "    \"max 4 to 5 sentences\"\n",
        "    \"\\n\\n\"\n",
        "    \"{context}\"\n",
        ")\n",
        "\n",
        "prompt = ChatPromptTemplate.from_messages(\n",
        "    [\n",
        "        (\"system\", system_prompt),\n",
        "        (\"human\", \"{input}\"),\n",
        "\n",
        "    ]\n",
        ")"
      ],
      "metadata": {
        "id": "WE-B-lTojrfT"
      },
      "execution_count": 17,
      "outputs": []
    },
    {
      "cell_type": "code",
      "source": [
        "question_answer_chain = create_stuff_documents_chain(llm, prompt)\n",
        "rag_chain = create_retrieval_chain(retriever, question_answer_chain)"
      ],
      "metadata": {
        "id": "zda5ktr5j3P7"
      },
      "execution_count": 18,
      "outputs": []
    },
    {
      "cell_type": "code",
      "source": [
        "response = rag_chain.invoke({\"input\": \"What kind of services they provide?\"})\n",
        "print(response[\"answer\"])"
      ],
      "metadata": {
        "colab": {
          "base_uri": "https://localhost:8080/"
        },
        "id": "DuT-lFLXkFXm",
        "outputId": "e54a2172-8283-442c-dcf3-5ece45cba72b"
      },
      "execution_count": 19,
      "outputs": [
        {
          "output_type": "stream",
          "name": "stdout",
          "text": [
            "The context describes services provided by several companies associated with AsyncAPI. IBM manufactures and markets hardware and software, offering hosting and consulting services. SAP designs computer products for business management and develops business software. IQVIA provides services for the combined health information technology and clinical research industries. Solace powers event-driven architectures, integrations, and AI.\n"
          ]
        }
      ]
    },
    {
      "cell_type": "code",
      "source": [
        "response = rag_chain.invoke({\"input\": \"What is this about?\"})\n",
        "print(response[\"answer\"])"
      ],
      "metadata": {
        "colab": {
          "base_uri": "https://localhost:8080/"
        },
        "id": "moSYTDf0wzuD",
        "outputId": "08b7e0df-77f2-48f1-bef8-db3c97ef76d0"
      },
      "execution_count": 20,
      "outputs": [
        {
          "output_type": "stream",
          "name": "stdout",
          "text": [
            "This content is about AsyncAPI, an Apache License 2.0 library under the Linux Foundation. It's an initiative providing a specification and open-source tools to help developers define, build, and maintain asynchronous APIs and Event-Driven Architectures (EDAs). AsyncAPI aims to make working with EDAs as easy as working with REST APIs, similar to how OpenAPI (Swagger) works for RESTful APIs. It supports various message brokers like Apache Kafka and RabbitMQ, and languages including Python, Java, and Nodejs.\n"
          ]
        }
      ]
    },
    {
      "cell_type": "code",
      "source": [],
      "metadata": {
        "id": "Jl-t6CYAw8jg"
      },
      "execution_count": null,
      "outputs": []
    }
  ]
}